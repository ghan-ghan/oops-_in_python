{
 "cells": [
  {
   "cell_type": "code",
   "execution_count": 1,
   "id": "dbff9f36",
   "metadata": {},
   "outputs": [],
   "source": [
    "##creating class \n",
    "\n"
   ]
  },
  {
   "cell_type": "code",
   "execution_count": 4,
   "id": "cd83bdb7",
   "metadata": {},
   "outputs": [
    {
     "name": "stdout",
     "output_type": "stream",
     "text": [
      "Swonim\n",
      "Wagle\n",
      "22\n"
     ]
    }
   ],
   "source": [
    "class Name:\n",
    "    def __init__(self, fname, lname ,age ):\n",
    "        self.first_name = fname\n",
    "        self.last_name = lname \n",
    "        self.age = age \n",
    "        \n",
    "        \n",
    "name =Name(\"Swonim\", \"Wagle\",22)\n",
    "print(name.first_name)\n",
    "print(name.last_name)\n",
    "print(name.age)\n",
    "        \n",
    "        \n",
    "    \n",
    "    "
   ]
  },
  {
   "cell_type": "code",
   "execution_count": 5,
   "id": "e82a307d",
   "metadata": {},
   "outputs": [],
   "source": [
    "##class with the objects:"
   ]
  },
  {
   "cell_type": "code",
   "execution_count": 24,
   "id": "36d348b2",
   "metadata": {},
   "outputs": [
    {
     "name": "stdout",
     "output_type": "stream",
     "text": [
      "You are Shayama shayam\n"
     ]
    }
   ],
   "source": [
    "class person:\n",
    "    def __init__(self, fname, lname, age):\n",
    "            self.first_name = fname \n",
    "            self.last_name = lname \n",
    "            self.age = age \n",
    "            \n",
    "            \n",
    "    def identification(self):\n",
    "\n",
    "                 print(f\"You are {self.first_name } { self.last_name}\")\n",
    "                 \n",
    "name = person(\"Shayama\" , \"shayam\", 22)\n",
    "name.identification()\n",
    "                 \n",
    "                 \n",
    "                 \n",
    "                 \n",
    "                 "
   ]
  },
  {
   "cell_type": "code",
   "execution_count": 25,
   "id": "cc82171f",
   "metadata": {},
   "outputs": [
    {
     "name": "stdout",
     "output_type": "stream",
     "text": [
      "shayam shayama\n"
     ]
    }
   ],
   "source": [
    "class person:\n",
    "    def __init__(self, fname,lname,age):\n",
    "        self.first_name = fname \n",
    "        self.last_name = lname\n",
    "        self.age = age \n",
    "        \n",
    "    def display(self):\n",
    "        print(self.first_name, self.last_name)\n",
    "        \n",
    "class employee(person):\n",
    "    def __init__(self,fname ,lname, age):\n",
    "        person.__init__(self,fname, lname ,age)\n",
    "        \n",
    "name = employee(\"shayam\",\"shayama\", 22)\n",
    "name.display()\n",
    "    "
   ]
  },
  {
   "cell_type": "code",
   "execution_count": 26,
   "id": "786fa8c8",
   "metadata": {},
   "outputs": [],
   "source": [
    "#inheritence "
   ]
  },
  {
   "cell_type": "code",
   "execution_count": 30,
   "id": "467eb800",
   "metadata": {},
   "outputs": [
    {
     "name": "stdout",
     "output_type": "stream",
     "text": [
      "2022\n"
     ]
    }
   ],
   "source": [
    "class person:\n",
    "    def __init__(self, fname , lname ,age, year):\n",
    "        self.first_name =fname \n",
    "        self.last_name = lname \n",
    "        self.age = age \n",
    "        self.year = year \n",
    "        \n",
    "    def display(self):\n",
    "        print(self.first_name, self.last_name)\n",
    "        \n",
    "        \n",
    "class employee(person):\n",
    "    def __init__(self, fname , lname ,age ,year):\n",
    "        super().__init__(fname,lname ,age,year)\n",
    "        self.joinning_year = year\n",
    "        \n",
    "name = employee(\"thapa\",\"thapa\",22, 2022)\n",
    "print(name.joinning_year)"
   ]
  },
  {
   "cell_type": "code",
   "execution_count": null,
   "id": "6a26cd55",
   "metadata": {},
   "outputs": [],
   "source": []
  },
  {
   "cell_type": "code",
   "execution_count": null,
   "id": "5d4b1bdf",
   "metadata": {},
   "outputs": [],
   "source": []
  }
 ],
 "metadata": {
  "kernelspec": {
   "display_name": "Python 3 (ipykernel)",
   "language": "python",
   "name": "python3"
  },
  "language_info": {
   "codemirror_mode": {
    "name": "ipython",
    "version": 3
   },
   "file_extension": ".py",
   "mimetype": "text/x-python",
   "name": "python",
   "nbconvert_exporter": "python",
   "pygments_lexer": "ipython3",
   "version": "3.10.4"
  }
 },
 "nbformat": 4,
 "nbformat_minor": 5
}
